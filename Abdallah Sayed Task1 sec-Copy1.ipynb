{
 "cells": [
  {
   "cell_type": "code",
   "execution_count": 3,
   "id": "2abb7fd3",
   "metadata": {},
   "outputs": [
    {
     "name": "stdout",
     "output_type": "stream",
     "text": [
      "Requirement already satisfied: pyopenms in c:\\users\\xpuff\\anaconda3\\lib\\site-packages (2.7.0)\n",
      "Requirement already satisfied: numpy in c:\\users\\xpuff\\anaconda3\\lib\\site-packages (from pyopenms) (1.21.5)\n"
     ]
    }
   ],
   "source": [
    "##AbdAllahSayedThabet_sec1g3_sec1task1\n",
    "!pip install pyopenms\n"
   ]
  },
  {
   "cell_type": "code",
   "execution_count": 2,
   "id": "4bae1585",
   "metadata": {},
   "outputs": [],
   "source": [
    "import pyopenms\n"
   ]
  },
  {
   "cell_type": "code",
   "execution_count": 13,
   "id": "2431dbba",
   "metadata": {},
   "outputs": [
    {
     "name": "stdout",
     "output_type": "stream",
     "text": [
      "Avogadro's number is 6.0221367e+23\n"
     ]
    }
   ],
   "source": [
    "print (\"Avogadro's number is\", pyopenms.Constants.AVOGADRO)\n"
   ]
  },
  {
   "cell_type": "code",
   "execution_count": 15,
   "id": "da95a2d5",
   "metadata": {},
   "outputs": [
    {
     "data": {
      "text/plain": [
       "True"
      ]
     },
     "execution_count": 15,
     "metadata": {},
     "output_type": "execute_result"
    }
   ],
   "source": [
    "\n",
    "from pyopenms import *\n",
    "edb = ElementDB()\n",
    "edb.hasElement(\"O\")"
   ]
  },
  {
   "cell_type": "code",
   "execution_count": 17,
   "id": "2652bf6b",
   "metadata": {},
   "outputs": [
    {
     "name": "stdout",
     "output_type": "stream",
     "text": [
      "Oxygen\n",
      "O\n",
      "15.994915\n",
      "15.999405323160001\n",
      "One mole of oxygen weighs 31.998810646320003 grams\n"
     ]
    }
   ],
   "source": [
    "oxygen = edb.getElement(\"O\")\n",
    "\n",
    "print(oxygen.getName())\n",
    "\n",
    "print(oxygen.getSymbol())\n",
    "\n",
    "print(oxygen.getMonoWeight())\n",
    "print(oxygen.getAverageWeight())\n",
    "print (\"One mole of oxygen weighs\", 2*oxygen.getAverageWeight(), \"grams\")\n"
   ]
  },
  {
   "cell_type": "code",
   "execution_count": 19,
   "id": "d9d1e8ea",
   "metadata": {},
   "outputs": [
    {
     "name": "stdout",
     "output_type": "stream",
     "text": [
      "Sulfur\n",
      "S\n",
      "31.97207073\n",
      "32.066084735289\n",
      "One mole of 16O2 weighs 31.98983 grams\n"
     ]
    }
   ],
   "source": [
    "sulfur = edb.getElement(\"S\")\n",
    "\n",
    "\n",
    "print(sulfur.getName())\n",
    "#-------------------------\n",
    "print(sulfur.getSymbol())\n",
    "#---------------------------\n",
    "print(sulfur.getMonoWeight())\n",
    "#-------------------------------\n",
    "print(sulfur.getAverageWeight())\n",
    "\n",
    "isotopes = sulfur.getIsotopeDistribution()\n",
    "print (\"One mole of 16O2 weighs\",  2*oxygen.getMonoWeight() ,\"grams\")"
   ]
  },
  {
   "cell_type": "code",
   "execution_count": 20,
   "id": "635c1b4a",
   "metadata": {},
   "outputs": [
    {
     "name": "stdout",
     "output_type": "stream",
     "text": [
      "Oxygen isotope 15.994915 has abundance 99.75699782371521 %\n",
      "Oxygen isotope 16.999132 has abundance 0.03800000122282654 %\n",
      "Oxygen isotope 17.999169 has abundance 0.20500000100582838 %\n"
     ]
    }
   ],
   "source": [
    "edb = ElementDB()\n",
    "oxygen_isoDist = {\"mass\": [], \"abundance\": []}\n",
    "\n",
    "oxygen = edb.getElement(\"O\")\n",
    "#-----------------------------------------------\n",
    "isotopes = oxygen.getIsotopeDistribution()\n",
    "for iso in isotopes.getContainer():\n",
    "    print (\"Oxygen isotope\", iso.getMZ(), \"has abundance\", iso.getIntensity()*100, \"%\")\n",
    "    oxygen_isoDist[\"mass\"].append(iso.getMZ())\n",
    "    oxygen_isoDist[\"abundance\"].append((iso.getIntensity() * 100))"
   ]
  },
  {
   "cell_type": "code",
   "execution_count": 21,
   "id": "b4ada4c1",
   "metadata": {},
   "outputs": [
    {
     "name": "stdout",
     "output_type": "stream",
     "text": [
      "Oxygen\n",
      "O\n",
      "15.994915\n",
      "15.999405323160001\n",
      "One mole of 16O2 weighs 31.98983 grams\n"
     ]
    }
   ],
   "source": [
    "sulfur = edb.getElement(\"O\")\n",
    "\n",
    "\n",
    "print(sulfur.getName())\n",
    "#-------------------------\n",
    "print(sulfur.getSymbol())\n",
    "#---------------------------\n",
    "print(sulfur.getMonoWeight())\n",
    "#-------------------------------\n",
    "print(sulfur.getAverageWeight())\n",
    "\n",
    "isotopes = sulfur.getIsotopeDistribution()\n",
    "print (\"One mole of 16O2 weighs\",  2*oxygen.getMonoWeight() ,\"grams\")"
   ]
  },
  {
   "cell_type": "code",
   "execution_count": 22,
   "id": "99f4d4f4",
   "metadata": {},
   "outputs": [
    {
     "name": "stdout",
     "output_type": "stream",
     "text": [
      "Sulfur isotope 31.97207073 had abundance 94.92999911308289 %\n",
      "Sulfur isotope 32.971458 had abundance 0.7600000128149986 %\n",
      "Sulfur isotope 33.967867 had abundance 4.2899999767541885 %\n",
      "Sulfur isotope 35.967081 had abundance 0.019999999494757503 %\n"
     ]
    }
   ],
   "source": [
    "sulfur_isoDist = {\"mass\": [], \"abundance\": []}\n",
    "\n",
    "sulfur = edb.getElement(\"S\")\n",
    "#-----------------------------------------------------------\n",
    "isotopes = sulfur.getIsotopeDistribution()\n",
    "for iso in isotopes.getContainer():\n",
    "    print (\"Sulfur isotope\", iso.getMZ(), \"had abundance\", iso.getIntensity()*100, \"%\")\n",
    "    sulfur_isoDist[\"mass\"].append(iso.getMZ())\n",
    "    sulfur_isoDist[\"abundance\"].append((iso.getIntensity() * 100))"
   ]
  },
  {
   "cell_type": "code",
   "execution_count": 26,
   "id": "6026d9fb",
   "metadata": {},
   "outputs": [
    {
     "name": "stdout",
     "output_type": "stream",
     "text": [
      "Sulfur isotope 31.97207073 has abundance 94.92999911308289 %\n",
      "Sulfur isotope 32.971458 has abundance 0.7600000128149986 %\n",
      "Sulfur isotope 33.967867 has abundance 4.2899999767541885 %\n",
      "Sulfur isotope 35.967081 has abundance 0.019999999494757503 %\n"
     ]
    }
   ],
   "source": [
    "sulfur_isoDist = {\"mass\": [], \"abundance\": []}\n",
    "sulfur = edb.getElement(\"S\")\n",
    "isotopes = sulfur.getIsotopeDistribution()\n",
    "\n",
    "\n",
    "for iso in isotopes.getContainer():\n",
    "    print (\"Sulfur isotope\", iso.getMZ(), \"has abundance\", iso.getIntensity()*100, \"%\")\n",
    "    sulfur_isoDist[\"mass\"].append(iso.getMZ())\n",
    "    sulfur_isoDist[\"abundance\"].append((iso.getIntensity() * 100))"
   ]
  },
  {
   "cell_type": "code",
   "execution_count": 25,
   "id": "48b3ca97",
   "metadata": {},
   "outputs": [
    {
     "name": "stdout",
     "output_type": "stream",
     "text": [
      "Oxygen isotope 15.994915 has abundance 99.75699782371521 %\n",
      "Oxygen isotope 16.999132 has abundance 0.03800000122282654 %\n",
      "Oxygen isotope 17.999169 has abundance 0.20500000100582838 %\n"
     ]
    }
   ],
   "source": [
    "Oxygen_isoDist = {\"mass\": [], \"abundance\": []}\n",
    "Oxygen = edb.getElement(\"O\")\n",
    "isotopes = sulfur.getIsotopeDistribution()\n",
    "\n",
    "\n",
    "for iso in isotopes.getContainer():\n",
    "    print (\"Oxygen isotope\", iso.getMZ(), \"has abundance\", iso.getIntensity()*100, \"%\")\n",
    "    sulfur_isoDist[\"mass\"].append(iso.getMZ())\n",
    "    sulfur_isoDist[\"abundance\"].append((iso.getIntensity() * 100))"
   ]
  },
  {
   "cell_type": "code",
   "execution_count": 28,
   "id": "cc866228",
   "metadata": {},
   "outputs": [
    {
     "data": {
      "image/png": "[encoded data removed]",
      "text/plain": [
       "<Figure size 1000x700 with 2 Axes>"
      ]
     },
     "metadata": {},
     "output_type": "display_data"
    }
   ],
   "source": [
    "#### other way extra code:\n",
    "\n",
    "import math\n",
    "from matplotlib import pyplot as plt\n",
    "\n",
    "def adjustText(x1, y1, x2, y2):\n",
    "    if y1 > y2:\n",
    "        plt.annotate('%0.3f' % (y2), xy=(x2, y2), xytext=(x2+0.5,y2+9),\n",
    "                     textcoords='data',\n",
    "                     arrowprops=dict(arrowstyle=\"->\", color='r', lw=0.5),\n",
    "                     horizontalalignment='right', verticalalignment='top')\n",
    "    else:\n",
    "        plt.annotate('%0.3f' % (y1), xy=(x1, y1), xytext=(x1+0.5,y1+9),\n",
    "                     textcoords='data',\n",
    "                     arrowprops=dict(arrowstyle=\"->\", color='r', lw=0.5),\n",
    "                     horizontalalignment='right', verticalalignment='top')\n",
    "\n",
    "#------------------------------------------------------\n",
    "def plotDistribution(distribution):\n",
    "    n = len(distribution[\"mass\"])\n",
    "    for i in range(0, n):\n",
    "        plt.vlines(x=distribution[\"mass\"][i], ymin=0, ymax=distribution[\"abundance\"][i])\n",
    "        if int(distribution[\"mass\"][i - 1]) == int(distribution[\"mass\"][i]) \\\n",
    "                and i != 0:\n",
    "            adjustText(distribution[\"mass\"][i - 1], distribution[\"abundance\"][i - 1],\n",
    "                       distribution[\"mass\"][i], distribution[\"abundance\"][i])\n",
    "        else:\n",
    "            plt.text(x=distribution[\"mass\"][i],\n",
    "                     y=(distribution[\"abundance\"][i] + 2),\n",
    "                     s='%0.3f' % (distribution[\"abundance\"][i]), va='center',\n",
    "                     ha='center')\n",
    "    plt.ylim([0, 110])\n",
    "    plt.xticks(range(math.ceil(distribution[\"mass\"][0]) - 2,\n",
    "                     math.ceil(distribution[\"mass\"][-1]) + 2))\n",
    "\n",
    "\n",
    "plt.figure(figsize=(10,7))\n",
    "\n",
    "plt.subplot(1,2,1)\n",
    "plt.title(\"Isotopic distribution of oxygen\")\n",
    "plotDistribution(oxygen_isoDist)\n",
    "plt.xlabel(\"Atomic mass (u)\")\n",
    "plt.ylabel(\"Relative abundance (%)\")\n",
    "\n",
    "plt.subplot(1,2,2)\n",
    "plt.title(\"Isotopic distribution of sulfur\")\n",
    "plotDistribution(sulfur_isoDist)\n",
    "plt.xlabel(\"Atomic mass (u)\")\n",
    "plt.ylabel(\"Relative abundance (%)\")\n",
    "\n",
    "plt.show()"
   ]
  },
  {
   "cell_type": "code",
   "execution_count": 29,
   "id": "9aa1113f",
   "metadata": {},
   "outputs": [],
   "source": [
    "edb = ElementDB()\n",
    "\n",
    "isotopes = edb.getElement(\"C\").getIsotopeDistribution().getContainer()\n",
    "carbon_isotope_difference = isotopes[1].getMZ() - isotopes[0].getMZ()\n",
    "\n",
    "#------------------------------------------------------------------------\n",
    "isotopes = edb.getElement(\"N\").getIsotopeDistribution().getContainer()\n",
    "\n",
    "nitrogen_isotope_difference = isotopes[1].getMZ() - isotopes[0].getMZ()"
   ]
  },
  {
   "cell_type": "code",
   "execution_count": 30,
   "id": "cb1f61f6",
   "metadata": {},
   "outputs": [
    {
     "name": "stdout",
     "output_type": "stream",
     "text": [
      "mass difference between 12C and 13C :  1.0033550000000009\n"
     ]
    }
   ],
   "source": [
    "print (\"mass difference between 12C and 13C : \", carbon_isotope_difference)"
   ]
  },
  {
   "cell_type": "code",
   "execution_count": 32,
   "id": "e9e84d6b",
   "metadata": {},
   "outputs": [
    {
     "name": "stdout",
     "output_type": "stream",
     "text": [
      " mass difference between 14N and N15 : 0.9970350000000003\n"
     ]
    }
   ],
   "source": [
    "print (\" mass difference between 14N and N15 :\", nitrogen_isotope_difference)"
   ]
  },
  {
   "cell_type": "code",
   "execution_count": 33,
   "id": "67350ee0",
   "metadata": {},
   "outputs": [
    {
     "name": "stdout",
     "output_type": "stream",
     "text": [
      "relative deviation :   0.6298867300208343 %\n"
     ]
    }
   ],
   "source": [
    "print (\"relative deviation :  \", 100*(carbon_isotope_difference -nitrogen_isotope_difference) / carbon_isotope_difference,\"%\")\n"
   ]
  },
  {
   "cell_type": "code",
   "execution_count": 34,
   "id": "b8e3dc7c",
   "metadata": {},
   "outputs": [
    {
     "name": "stdout",
     "output_type": "stream",
     "text": [
      "Ethanol chemical formula: C2H6O1\n"
     ]
    }
   ],
   "source": [
    "##??????????????????????????????????????????????\n",
    "methanol = EmpiricalFormula(\"CH3OH\")\n",
    "\n",
    "water = EmpiricalFormula(\"H2O\")\n",
    "\n",
    "ethanol = EmpiricalFormula(\"CH2\") + methanol\n",
    "print(\"Ethanol chemical formula:\", ethanol.toString())"
   ]
  },
  {
   "cell_type": "code",
   "execution_count": 35,
   "id": "20c85ac4",
   "metadata": {},
   "outputs": [
    {
     "name": "stdout",
     "output_type": "stream",
     "text": [
      "Ethanol composition: {b'C': 2, b'H': 6, b'O': 1}\n"
     ]
    }
   ],
   "source": [
    "print(\"Ethanol composition:\", ethanol.getElementalComposition())"
   ]
  },
  {
   "cell_type": "code",
   "execution_count": 36,
   "id": "c4a7e104",
   "metadata": {},
   "outputs": [
    {
     "name": "stdout",
     "output_type": "stream",
     "text": [
      "ethanol had  6 hydrogen  atoms \n"
     ]
    }
   ],
   "source": [
    "print(\"ethanol had \", ethanol.getElementalComposition()[b\"H\"], \"hydrogen  atoms \")"
   ]
  },
  {
   "cell_type": "code",
   "execution_count": 37,
   "id": "d770f55e",
   "metadata": {},
   "outputs": [
    {
     "name": "stdout",
     "output_type": "stream",
     "text": [
      "ethanol had  1 oxygen  atoms\n"
     ]
    }
   ],
   "source": [
    "print(\"ethanol had \", ethanol.getElementalComposition()[b\"O\"], \"oxygen  atoms\")"
   ]
  },
  {
   "cell_type": "code",
   "execution_count": 38,
   "id": "3e3c399d",
   "metadata": {},
   "outputs": [
    {
     "name": "stdout",
     "output_type": "stream",
     "text": [
      "ethanol had  2 carbon  atoms\n"
     ]
    }
   ],
   "source": [
    "print(\"ethanol had \", ethanol.getElementalComposition()[b\"C\"], \"carbon  atoms\")"
   ]
  },
  {
   "cell_type": "code",
   "execution_count": 52,
   "id": "d406021d",
   "metadata": {},
   "outputs": [],
   "source": [
    "lys = ResidueDB().getResidue(\"Lysine\") ##capital\n"
   ]
  },
  {
   "cell_type": "code",
   "execution_count": 53,
   "id": "86c21bc1",
   "metadata": {},
   "outputs": [
    {
     "name": "stdout",
     "output_type": "stream",
     "text": [
      "Lysine\n",
      "Lys\n",
      "K\n",
      "146.18788276708446\n",
      "146.1055284466\n",
      "2.16\n",
      "C6H14N2O2\n"
     ]
    }
   ],
   "source": [
    "#??\n",
    "# to print Name\n",
    "print(lys.getName())\n",
    "\n",
    "##  Three Letter Code\n",
    "print(lys.getThreeLetterCode())\n",
    "\n",
    "### One Letter Code\n",
    "print(lys.getOneLetterCode())\n",
    "\n",
    "## Average Weight\n",
    "print(lys.getAverageWeight())\n",
    "\n",
    "###  Mono Weight\n",
    "print(lys.getMonoWeight())\n",
    "\n",
    "\n",
    "print(lys.getPka())\n",
    "\n",
    "#######  Formula\n",
    "print(lys.getFormula().toString())"
   ]
  },
  {
   "cell_type": "code",
   "execution_count": null,
   "id": "4df49e73",
   "metadata": {},
   "outputs": [],
   "source": [
    "##########################3   Amino Acids ##################################\n",
    "\n",
    "\n",
    "# An amino acid residue is represented in OpenMS by the class Residue\n",
    "\n",
    "\n",
    "\n",
    "lys = ResidueDB().getResidue(\"Lysine\")"
   ]
  },
  {
   "cell_type": "code",
   "execution_count": 44,
   "id": "3aca9b60",
   "metadata": {},
   "outputs": [
    {
     "ename": "NameError",
     "evalue": "name 'lys' is not defined",
     "output_type": "error",
     "traceback": [
      "\u001b[1;31m---------------------------------------------------------------------------\u001b[0m",
      "\u001b[1;31mNameError\u001b[0m                                 Traceback (most recent call last)",
      "\u001b[1;32m~\\AppData\\Local\\Temp\\ipykernel_11296\\3226333598.py\u001b[0m in \u001b[0;36m<module>\u001b[1;34m\u001b[0m\n\u001b[0;32m      1\u001b[0m \u001b[1;31m# to print Name\u001b[0m\u001b[1;33m\u001b[0m\u001b[1;33m\u001b[0m\u001b[0m\n\u001b[1;32m----> 2\u001b[1;33m \u001b[0mprint\u001b[0m\u001b[1;33m(\u001b[0m\u001b[0mlys\u001b[0m\u001b[1;33m.\u001b[0m\u001b[0mgetName\u001b[0m\u001b[1;33m(\u001b[0m\u001b[1;33m)\u001b[0m\u001b[1;33m)\u001b[0m\u001b[1;33m\u001b[0m\u001b[1;33m\u001b[0m\u001b[0m\n\u001b[0m\u001b[0;32m      3\u001b[0m \u001b[1;33m\u001b[0m\u001b[0m\n\u001b[0;32m      4\u001b[0m \u001b[1;31m##  Three Letter Code\u001b[0m\u001b[1;33m\u001b[0m\u001b[1;33m\u001b[0m\u001b[0m\n\u001b[0;32m      5\u001b[0m \u001b[0mprint\u001b[0m\u001b[1;33m(\u001b[0m\u001b[0mlys\u001b[0m\u001b[1;33m.\u001b[0m\u001b[0mgetThreeLetterCode\u001b[0m\u001b[1;33m(\u001b[0m\u001b[1;33m)\u001b[0m\u001b[1;33m)\u001b[0m\u001b[1;33m\u001b[0m\u001b[1;33m\u001b[0m\u001b[0m\n",
      "\u001b[1;31mNameError\u001b[0m: name 'lys' is not defined"
     ]
    }
   ],
   "source": []
  },
  {
   "cell_type": "code",
   "execution_count": 46,
   "id": "1f1b4f75",
   "metadata": {},
   "outputs": [
    {
     "name": "stdout",
     "output_type": "stream",
     "text": [
      "UniMod:35\n",
      "35\n",
      "15.994915\n",
      "Oxidation\n",
      "Oxidation (D)\n",
      "Oxidation or Hydroxylation\n",
      "O1\n"
     ]
    }
   ],
   "source": [
    "\n",
    "ox = ModificationsDB().getModification(\"Oxidation\")\n",
    "\n",
    "\n",
    "print(ox.getUniModAccession())\n",
    "\n",
    "print(ox.getUniModRecordId())\n",
    "print(ox.getDiffMonoMass())\n",
    "\n",
    "###------------------\n",
    "print(ox.getId())\n",
    "print(ox.getFullId())\n",
    "print(ox.getFullName())\n",
    "\n",
    "print(ox.getDiffFormula())"
   ]
  },
  {
   "cell_type": "code",
   "execution_count": 47,
   "id": "ecc89f2f",
   "metadata": {},
   "outputs": [
    {
     "name": "stdout",
     "output_type": "stream",
     "text": [
      "15.994915 : 0.9975699782371521\n",
      "16.998269837800002 : 0.0003800000122282654\n",
      "18.0016246756 : 0.002050000010058284\n"
     ]
    }
   ],
   "source": [
    "isotopes = ox.getDiffFormula().getIsotopeDistribution(CoarseIsotopePatternGenerator(5))\n",
    "for iso in isotopes.getContainer():\n",
    "    print (iso.getMZ(), \":\", iso.getIntensity())"
   ]
  },
  {
   "cell_type": "code",
   "execution_count": 48,
   "id": "b48003c9",
   "metadata": {},
   "outputs": [
    {
     "name": "stdout",
     "output_type": "stream",
     "text": [
      "uridine\n",
      "U\n",
      "244.2043\n",
      "244.0695\n",
      "C9H12N2O6\n",
      "False\n",
      "1-methyladenosine\n",
      "True\n"
     ]
    }
   ],
   "source": [
    "uridine = RibonucleotideDB().getRibonucleotide(b\"U\")\n",
    "\n",
    "\n",
    "print(uridine.getName())\n",
    "\n",
    "##-----------------------------\n",
    "print(uridine.getCode())\n",
    "\n",
    "print(uridine.getAvgMass())\n",
    "\n",
    "print(uridine.getMonoMass())\n",
    "\n",
    "\n",
    "print(uridine.getFormula().toString())\n",
    "\n",
    "print(uridine.isModified())\n",
    "\n",
    "methyladenosine = RibonucleotideDB().getRibonucleotide(b\"m1A\")\n",
    "\n",
    "\n",
    "print(methyladenosine.getName())\n",
    "\n",
    "print(methyladenosine.isModified())"
   ]
  },
  {
   "cell_type": "code",
   "execution_count": null,
   "id": "c54abca4",
   "metadata": {},
   "outputs": [],
   "source": []
  },
  {
   "cell_type": "code",
   "execution_count": null,
   "id": "e7556988",
   "metadata": {},
   "outputs": [],
   "source": []
  },
  {
   "cell_type": "code",
   "execution_count": null,
   "id": "943fc72a",
   "metadata": {},
   "outputs": [],
   "source": []
  }
 ],
 "metadata": {
  "kernelspec": {
   "display_name": "Python 3 (ipykernel)",
   "language": "python",
   "name": "python3"
  },
  "language_info": {
   "codemirror_mode": {
    "name": "ipython",
    "version": 3
   },
   "file_extension": ".py",
   "mimetype": "text/x-python",
   "name": "python",
   "nbconvert_exporter": "python",
   "pygments_lexer": "ipython3",
   "version": "3.9.13"
  }
 },
 "nbformat": 4,
 "nbformat_minor": 5
}
